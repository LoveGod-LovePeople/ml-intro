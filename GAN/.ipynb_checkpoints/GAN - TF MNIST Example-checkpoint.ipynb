{
 "cells": [
  {
   "cell_type": "code",
   "execution_count": 2,
   "id": "59645d8d",
   "metadata": {},
   "outputs": [],
   "source": [
    "import tensorflow as tf"
   ]
  },
  {
   "cell_type": "code",
   "execution_count": null,
   "id": "1b22d5bc",
   "metadata": {},
   "outputs": [],
   "source": [
    "!pip install tensorflow-gan\n",
    "!pip install tensorflow-datasets\n",
    "!pip install matplotlib"
   ]
  },
  {
   "cell_type": "code",
   "execution_count": 6,
   "id": "5c903801",
   "metadata": {},
   "outputs": [
    {
     "name": "stdout",
     "output_type": "stream",
     "text": [
      "Requirement already satisfied: tensorflow-gan in /Users/tn_family/miniconda3/lib/python3.10/site-packages (2.1.0)\n",
      "Requirement already satisfied: tensorflow-probability>=0.7 in /Users/tn_family/miniconda3/lib/python3.10/site-packages (from tensorflow-gan) (0.19.0)\n",
      "Requirement already satisfied: tensorflow-hub>=0.2 in /Users/tn_family/miniconda3/lib/python3.10/site-packages (from tensorflow-gan) (0.13.0)\n",
      "Requirement already satisfied: protobuf>=3.19.6 in /Users/tn_family/miniconda3/lib/python3.10/site-packages (from tensorflow-hub>=0.2->tensorflow-gan) (3.19.6)\n",
      "Requirement already satisfied: numpy>=1.12.0 in /Users/tn_family/miniconda3/lib/python3.10/site-packages (from tensorflow-hub>=0.2->tensorflow-gan) (1.24.2)\n",
      "Requirement already satisfied: gast>=0.3.2 in /Users/tn_family/miniconda3/lib/python3.10/site-packages (from tensorflow-probability>=0.7->tensorflow-gan) (0.4.0)\n",
      "Requirement already satisfied: cloudpickle>=1.3 in /Users/tn_family/miniconda3/lib/python3.10/site-packages (from tensorflow-probability>=0.7->tensorflow-gan) (2.2.1)\n",
      "Requirement already satisfied: decorator in /Users/tn_family/miniconda3/lib/python3.10/site-packages (from tensorflow-probability>=0.7->tensorflow-gan) (5.1.1)\n",
      "Requirement already satisfied: absl-py in /Users/tn_family/miniconda3/lib/python3.10/site-packages (from tensorflow-probability>=0.7->tensorflow-gan) (1.4.0)\n",
      "Requirement already satisfied: six>=1.10.0 in /Users/tn_family/miniconda3/lib/python3.10/site-packages (from tensorflow-probability>=0.7->tensorflow-gan) (1.16.0)\n",
      "Requirement already satisfied: dm-tree in /Users/tn_family/miniconda3/lib/python3.10/site-packages (from tensorflow-probability>=0.7->tensorflow-gan) (0.1.8)\n",
      "Requirement already satisfied: tensorflow-datasets in /Users/tn_family/miniconda3/lib/python3.10/site-packages (4.8.3)\n",
      "Requirement already satisfied: click in /Users/tn_family/miniconda3/lib/python3.10/site-packages (from tensorflow-datasets) (8.1.3)\n",
      "Requirement already satisfied: etils[enp,epath]>=0.9.0 in /Users/tn_family/miniconda3/lib/python3.10/site-packages (from tensorflow-datasets) (1.1.1)\n",
      "Requirement already satisfied: tensorflow-metadata in /Users/tn_family/miniconda3/lib/python3.10/site-packages (from tensorflow-datasets) (1.12.0)\n",
      "Requirement already satisfied: dm-tree in /Users/tn_family/miniconda3/lib/python3.10/site-packages (from tensorflow-datasets) (0.1.8)\n",
      "Requirement already satisfied: promise in /Users/tn_family/miniconda3/lib/python3.10/site-packages (from tensorflow-datasets) (2.3)\n",
      "Requirement already satisfied: termcolor in /Users/tn_family/miniconda3/lib/python3.10/site-packages (from tensorflow-datasets) (2.2.0)\n",
      "Requirement already satisfied: absl-py in /Users/tn_family/miniconda3/lib/python3.10/site-packages (from tensorflow-datasets) (1.4.0)\n",
      "Requirement already satisfied: protobuf>=3.12.2 in /Users/tn_family/miniconda3/lib/python3.10/site-packages (from tensorflow-datasets) (3.19.6)\n",
      "Requirement already satisfied: requests>=2.19.0 in /Users/tn_family/miniconda3/lib/python3.10/site-packages (from tensorflow-datasets) (2.28.1)\n",
      "Requirement already satisfied: numpy in /Users/tn_family/miniconda3/lib/python3.10/site-packages (from tensorflow-datasets) (1.24.2)\n",
      "Requirement already satisfied: wrapt in /Users/tn_family/miniconda3/lib/python3.10/site-packages (from tensorflow-datasets) (1.15.0)\n",
      "Requirement already satisfied: toml in /Users/tn_family/miniconda3/lib/python3.10/site-packages (from tensorflow-datasets) (0.10.2)\n",
      "Requirement already satisfied: psutil in /Users/tn_family/miniconda3/lib/python3.10/site-packages (from tensorflow-datasets) (5.9.4)\n",
      "Requirement already satisfied: tqdm in /Users/tn_family/miniconda3/lib/python3.10/site-packages (from tensorflow-datasets) (4.64.1)\n",
      "Requirement already satisfied: typing_extensions in /Users/tn_family/miniconda3/lib/python3.10/site-packages (from etils[enp,epath]>=0.9.0->tensorflow-datasets) (4.5.0)\n",
      "Requirement already satisfied: importlib_resources in /Users/tn_family/miniconda3/lib/python3.10/site-packages (from etils[enp,epath]>=0.9.0->tensorflow-datasets) (5.12.0)\n",
      "Requirement already satisfied: zipp in /Users/tn_family/miniconda3/lib/python3.10/site-packages (from etils[enp,epath]>=0.9.0->tensorflow-datasets) (3.15.0)\n",
      "Requirement already satisfied: urllib3<1.27,>=1.21.1 in /Users/tn_family/miniconda3/lib/python3.10/site-packages (from requests>=2.19.0->tensorflow-datasets) (1.26.14)\n",
      "Requirement already satisfied: idna<4,>=2.5 in /Users/tn_family/miniconda3/lib/python3.10/site-packages (from requests>=2.19.0->tensorflow-datasets) (3.4)\n",
      "Requirement already satisfied: certifi>=2017.4.17 in /Users/tn_family/miniconda3/lib/python3.10/site-packages (from requests>=2.19.0->tensorflow-datasets) (2022.12.7)\n",
      "Requirement already satisfied: charset-normalizer<3,>=2 in /Users/tn_family/miniconda3/lib/python3.10/site-packages (from requests>=2.19.0->tensorflow-datasets) (2.0.4)\n",
      "Requirement already satisfied: six in /Users/tn_family/miniconda3/lib/python3.10/site-packages (from promise->tensorflow-datasets) (1.16.0)\n",
      "Requirement already satisfied: googleapis-common-protos<2,>=1.52.0 in /Users/tn_family/miniconda3/lib/python3.10/site-packages (from tensorflow-metadata->tensorflow-datasets) (1.59.0)\n",
      "Collecting matplotlib\n",
      "  Downloading matplotlib-3.7.1-cp310-cp310-macosx_11_0_arm64.whl (7.3 MB)\n",
      "\u001b[2K     \u001b[90m━━━━━━━━━━━━━━━━━━━━━━━━━━━━━━━━━━━━━━━━\u001b[0m \u001b[32m7.3/7.3 MB\u001b[0m \u001b[31m8.5 MB/s\u001b[0m eta \u001b[36m0:00:00\u001b[0m00:01\u001b[0m00:01\u001b[0m0m\n",
      "\u001b[?25hCollecting contourpy>=1.0.1\n",
      "  Downloading contourpy-1.0.7-cp310-cp310-macosx_11_0_arm64.whl (229 kB)\n",
      "\u001b[2K     \u001b[90m━━━━━━━━━━━━━━━━━━━━━━━━━━━━━━━━━━━━━━\u001b[0m \u001b[32m229.7/229.7 kB\u001b[0m \u001b[31m14.9 MB/s\u001b[0m eta \u001b[36m0:00:00\u001b[0m\n",
      "\u001b[?25hCollecting fonttools>=4.22.0\n",
      "  Downloading fonttools-4.39.2-py3-none-any.whl (1.0 MB)\n",
      "\u001b[2K     \u001b[90m━━━━━━━━━━━━━━━━━━━━━━━━━━━━━━━━━━━━━━━━\u001b[0m \u001b[32m1.0/1.0 MB\u001b[0m \u001b[31m12.5 MB/s\u001b[0m eta \u001b[36m0:00:00\u001b[0m00:01\u001b[0m00:01\u001b[0m\n",
      "\u001b[?25hCollecting pyparsing>=2.3.1\n",
      "  Downloading pyparsing-3.0.9-py3-none-any.whl (98 kB)\n",
      "\u001b[2K     \u001b[90m━━━━━━━━━━━━━━━━━━━━━━━━━━━━━━━━━━━━━━━━\u001b[0m \u001b[32m98.3/98.3 kB\u001b[0m \u001b[31m12.5 MB/s\u001b[0m eta \u001b[36m0:00:00\u001b[0m\n",
      "\u001b[?25hCollecting cycler>=0.10\n",
      "  Downloading cycler-0.11.0-py3-none-any.whl (6.4 kB)\n",
      "Requirement already satisfied: packaging>=20.0 in /Users/tn_family/miniconda3/lib/python3.10/site-packages (from matplotlib) (23.0)\n",
      "Requirement already satisfied: python-dateutil>=2.7 in /Users/tn_family/miniconda3/lib/python3.10/site-packages (from matplotlib) (2.8.2)\n",
      "Requirement already satisfied: numpy>=1.20 in /Users/tn_family/miniconda3/lib/python3.10/site-packages (from matplotlib) (1.24.2)\n",
      "Collecting pillow>=6.2.0\n",
      "  Downloading Pillow-9.4.0-cp310-cp310-macosx_11_0_arm64.whl (3.0 MB)\n",
      "\u001b[2K     \u001b[90m━━━━━━━━━━━━━━━━━━━━━━━━━━━━━━━━━━━━━━━━\u001b[0m \u001b[32m3.0/3.0 MB\u001b[0m \u001b[31m22.0 MB/s\u001b[0m eta \u001b[36m0:00:00\u001b[0ma \u001b[36m0:00:01\u001b[0m\n",
      "\u001b[?25hCollecting kiwisolver>=1.0.1\n",
      "  Downloading kiwisolver-1.4.4-cp310-cp310-macosx_11_0_arm64.whl (63 kB)\n",
      "\u001b[2K     \u001b[90m━━━━━━━━━━━━━━━━━━━━━━━━━━━━━━━━━━━━━━━━\u001b[0m \u001b[32m63.2/63.2 kB\u001b[0m \u001b[31m7.3 MB/s\u001b[0m eta \u001b[36m0:00:00\u001b[0m\n",
      "\u001b[?25hRequirement already satisfied: six>=1.5 in /Users/tn_family/miniconda3/lib/python3.10/site-packages (from python-dateutil>=2.7->matplotlib) (1.16.0)\n",
      "Installing collected packages: pyparsing, pillow, kiwisolver, fonttools, cycler, contourpy, matplotlib\n",
      "Successfully installed contourpy-1.0.7 cycler-0.11.0 fonttools-4.39.2 kiwisolver-1.4.4 matplotlib-3.7.1 pillow-9.4.0 pyparsing-3.0.9\n"
     ]
    }
   ],
   "source": [
    "import tensorflow.compat.v1 as tf\n",
    "import tensorflow_gan as tfgan\n",
    "import tensorflow_datasets as tfds\n",
    "import matplotlib.pyplot as plt\n",
    "import numpy as np\n",
    "# Allow matplotlib images to render immediately.\n",
    "%matplotlib inline\n",
    "tf.logging.set_verbosity(tf.logging.ERROR)  # Disable noisy outputs."
   ]
  },
  {
   "cell_type": "code",
   "execution_count": null,
   "id": "866a16e0",
   "metadata": {},
   "outputs": [],
   "source": []
  }
 ],
 "metadata": {
  "kernelspec": {
   "display_name": "Python 3 (ipykernel)",
   "language": "python",
   "name": "python3"
  },
  "language_info": {
   "codemirror_mode": {
    "name": "ipython",
    "version": 3
   },
   "file_extension": ".py",
   "mimetype": "text/x-python",
   "name": "python",
   "nbconvert_exporter": "python",
   "pygments_lexer": "ipython3",
   "version": "3.10.9"
  }
 },
 "nbformat": 4,
 "nbformat_minor": 5
}
